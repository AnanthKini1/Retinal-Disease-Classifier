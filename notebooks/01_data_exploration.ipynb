{
 "cells": [
  {
   "cell_type": "code",
   "execution_count": null,
   "id": "39ad62e0",
   "metadata": {},
   "outputs": [
    {
     "name": "stdout",
     "output_type": "stream",
     "text": [
      "Path to dataset files: /Users/ananthkini/.cache/kagglehub/datasets/andrewmvd/retinal-disease-classification/versions/1\n",
      "Dataset copied to: ../data/raw/Disease_Classification/\n"
     ]
    }
   ],
   "source": [
    "import kagglehub\n",
    "import os\n",
    "import shutil\n",
    "\n",
    "# Download latest version\n",
    "path = kagglehub.dataset_download(\"andrewmvd/retinal-disease-classification\")\n",
    "print(\"Path to dataset files:\", path)\n",
    "\n",
    "destination = \"../data/raw/\"\n",
    "if not os.path.exists(destination):\n",
    "    os.makedirs(destination)\n",
    "    \n",
    "# Copy downloaded data \n",
    "shutil.copytree(path, destination, dirs_exist_ok=True)\n",
    "print(f\"Dataset copied to: {destination}\")"
   ]
  },
  {
   "cell_type": "code",
   "execution_count": null,
   "id": "a0a74c42",
   "metadata": {},
   "outputs": [
    {
     "name": "stdout",
     "output_type": "stream",
     "text": [
      "Image: 348.png\n",
      "Image: 1804.png\n",
      "Image: 1810.png\n",
      "Image: 1186.png\n",
      "Image: 412.png\n"
     ]
    }
   ],
   "source": [
    "import os\n",
    "import PIL.Image as Image\n",
    "\n",
    "# Setting validation data path\n",
    "val_path = \"../data/raw/Evaluation_Set/Validation/\"\n",
    "val_imgs = os.listdir(val_path)[:5] \n",
    "\n",
    "# Displaying the first 5 images in the validation set\n",
    "for item in val_imgs:\n",
    "    path = os.path.join(val_path, item)\n",
    "    img = Image.open(path)\n",
    "    print (f\"Image: {item}\")\n",
    "    img.show()\n",
    "\n",
    "# Setting test data path\n",
    "test_path = \"../data/raw/Test_Set/Test/\"\n",
    "test_imgs = os.listdir(test_path)[:5]\n",
    "\n",
    "# Displaying the first 5 images in the test set\n",
    "for item in test_imgs:\n",
    "    path = os.path.join(test_path, item)\n",
    "    img = Image.open(path)\n",
    "    print (f\"Image: {item}\")\n",
    "    img.show()\n",
    "\n",
    "#Setting training data path\n",
    "train_path = \"../data/raw/Training_Set/Training/\"\n",
    "train_imgs = os.listdir(train_path)[:5]\n",
    "\n",
    "# Displaying the first 5 images in the training set\n",
    "for item in train_imgs:\n",
    "    path = os.path.join(train_path, item)\n",
    "    img = Image.open(path)\n",
    "    print (f\"Image: {item}\")\n",
    "    img.show()"
   ]
  }
 ],
 "metadata": {
  "kernelspec": {
   "display_name": "venv",
   "language": "python",
   "name": "python3"
  },
  "language_info": {
   "codemirror_mode": {
    "name": "ipython",
    "version": 3
   },
   "file_extension": ".py",
   "mimetype": "text/x-python",
   "name": "python",
   "nbconvert_exporter": "python",
   "pygments_lexer": "ipython3",
   "version": "3.9.6"
  }
 },
 "nbformat": 4,
 "nbformat_minor": 5
}
