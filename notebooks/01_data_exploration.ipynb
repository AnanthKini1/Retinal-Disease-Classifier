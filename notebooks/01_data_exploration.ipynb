{
 "cells": [
  {
   "cell_type": "code",
   "execution_count": 1,
   "id": "39ad62e0",
   "metadata": {},
   "outputs": [
    {
     "name": "stderr",
     "output_type": "stream",
     "text": [
      "/Users/ananthkini/Documents/Machine Learning Project/venv/lib/python3.9/site-packages/urllib3/__init__.py:35: NotOpenSSLWarning: urllib3 v2 only supports OpenSSL 1.1.1+, currently the 'ssl' module is compiled with 'LibreSSL 2.8.3'. See: https://github.com/urllib3/urllib3/issues/3020\n",
      "  warnings.warn(\n"
     ]
    },
    {
     "name": "stdout",
     "output_type": "stream",
     "text": [
      "Downloading from https://www.kaggle.com/api/v1/datasets/download/andrewmvd/retinal-disease-classification?dataset_version_number=1...\n"
     ]
    },
    {
     "name": "stderr",
     "output_type": "stream",
     "text": [
      "100%|██████████| 7.43G/7.43G [19:03<00:00, 6.97MB/s]  "
     ]
    },
    {
     "name": "stdout",
     "output_type": "stream",
     "text": [
      "Extracting files...\n"
     ]
    },
    {
     "name": "stderr",
     "output_type": "stream",
     "text": [
      "\n"
     ]
    },
    {
     "name": "stdout",
     "output_type": "stream",
     "text": [
      "Path to dataset files: /Users/ananthkini/.cache/kagglehub/datasets/andrewmvd/retinal-disease-classification/versions/1\n",
      "Dataset copied to: ../data/raw/\n"
     ]
    }
   ],
   "source": [
    "import kagglehub\n",
    "import os\n",
    "import shutil\n",
    "\n",
    "# Download latest version\n",
    "path = kagglehub.dataset_download(\"andrewmvd/retinal-disease-classification\")\n",
    "print(\"Path to dataset files:\", path)\n",
    "\n",
    "# Optional: Copy to your data/raw folder for organization\n",
    "import shutil\n",
    "destination = \"../data/raw/\"\n",
    "if not os.path.exists(destination):\n",
    "    os.makedirs(destination)\n",
    "    \n",
    "# Copy the downloaded data to your project structure\n",
    "shutil.copytree(path, destination + \"Disease_Classification\", dirs_exist_ok=True)\n",
    "print(f\"Dataset copied to: {destination}\")"
   ]
  },
  {
   "cell_type": "code",
   "execution_count": 1,
   "id": "8c207131",
   "metadata": {},
   "outputs": [
    {
     "name": "stdout",
     "output_type": "stream",
     "text": [
      "Contents of data/raw/:\n",
      "['Disease_Classification']\n",
      "\n",
      "Contents of Disease_Classification:\n",
      "['Evaluation_Set', 'Training_Set', 'Test_Set']\n"
     ]
    }
   ],
   "source": [
    "import os\n",
    "import matplotlib.pyplot as plt\n",
    "import numpy as np\n",
    "from PIL import Image\n",
    "import pandas as pd\n",
    "from collections import Counter\n",
    "\n",
    "# Define the path to your data\n",
    "data_path = \"../data/raw/\"\n",
    "\n",
    "print(\"Contents of data/raw/:\")\n",
    "print(os.listdir(data_path))\n",
    "\n",
    "# Look deeper into the structure\n",
    "for item in os.listdir(data_path):\n",
    "    item_path = os.path.join(data_path, item)\n",
    "    if os.path.isdir(item_path):\n",
    "        print(f\"\\nContents of {item}:\")\n",
    "        print(os.listdir(item_path))"
   ]
  }
 ],
 "metadata": {
  "kernelspec": {
   "display_name": "venv",
   "language": "python",
   "name": "python3"
  },
  "language_info": {
   "codemirror_mode": {
    "name": "ipython",
    "version": 3
   },
   "file_extension": ".py",
   "mimetype": "text/x-python",
   "name": "python",
   "nbconvert_exporter": "python",
   "pygments_lexer": "ipython3",
   "version": "3.9.6"
  }
 },
 "nbformat": 4,
 "nbformat_minor": 5
}
