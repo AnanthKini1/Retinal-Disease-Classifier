{
 "cells": [
  {
   "cell_type": "code",
   "execution_count": null,
   "id": "fbff0424",
   "metadata": {},
   "outputs": [
    {
     "name": "stdout",
     "output_type": "stream",
     "text": [
      "Training labels shape: (1920, 47)\n",
      "\n",
      "First few rows:\n",
      "   ID  Disease_Risk  DR  ARMD  MH  DN  MYA  BRVO  TSLN  ERM  ...  CME  PTCR  \\\n",
      "0   1             1   1     0   0   0    0     0     0    0  ...    0     0   \n",
      "1   2             1   1     0   0   0    0     0     0    0  ...    0     0   \n",
      "2   3             1   1     0   0   0    0     0     0    0  ...    0     0   \n",
      "3   4             1   0     0   1   0    0     0     0    0  ...    0     0   \n",
      "4   5             1   1     0   0   0    0     0     0    0  ...    0     0   \n",
      "\n",
      "   CF  VH  MCA  VS  BRAO  PLQ  HPED  CL  \n",
      "0   0   0    0   0     0    0     0   0  \n",
      "1   0   0    0   0     0    0     0   0  \n",
      "2   0   0    0   0     0    0     0   0  \n",
      "3   0   0    0   0     0    0     0   0  \n",
      "4   0   0    0   0     0    0     0   0  \n",
      "\n",
      "[5 rows x 47 columns]\n",
      "\n",
      "Label distribution:\n",
      "ID    Disease_Risk  DR  ARMD  MH  DN  MYA  BRVO  TSLN  ERM  LS  MS  CSR  ODC  CRVO  TV  AH  ODP  ODE  ST  AION  PT  RT  RS  CRS  EDN  RPEC  MHL  RP  CWS  CB  ODPM  PRH  MNF  HR  CRAO  TD  CME  PTCR  CF  VH  MCA  VS  BRAO  PLQ  HPED  CL\n",
      "1     1             1   0     0   0   0    0     0     0    0   0   0    0    0     0   0   0    0    0   0     0   0   0   0    0    0     0    0   0    0   0     0    0    0   0     0   0    0     0   0   0    0   0     0    0     0     1\n",
      "2     1             1   0     0   0   0    0     0     0    0   0   0    0    0     0   0   0    0    0   0     0   0   0   0    0    0     0    0   0    0   0     0    0    0   0     0   0    0     0   0   0    0   0     0    0     0     1\n",
      "1289  1             0   0     0   0   0    1     0     0    0   0   0    0    0     0   0   0    0    0   0     0   0   0   0    0    0     0    0   0    0   0     0    0    0   0     0   0    0     0   0   0    0   0     0    0     0     1\n",
      "1288  1             0   0     1   0   0    0     1     0    0   0   0    0    0     0   0   0    0    0   0     0   0   0   0    0    0     0    0   0    0   0     0    0    0   0     0   0    0     0   0   0    0   0     0    0     0     1\n",
      "1287  1             0   1     0   0   0    0     0     0    0   0   0    0    0     0   0   0    0    0   0     0   0   0   0    0    0     0    0   0    0   0     0    0    0   0     0   0    0     0   0   0    0   0     0    0     0     1\n",
      "                                                                                                                                                                                                                                              ..\n",
      "636   1             0   0     0   0   0    0     1     0    0   0   0    1    0     0   0   0    0    0   0     0   0   0   0    0    0     0    0   0    0   0     0    0    0   0     0   0    0     0   0   0    0   0     0    0     0     1\n",
      "635   1             0   0     1   0   0    0     1     0    0   0   0    1    0     0   0   0    0    0   0     0   0   0   0    0    0     0    0   0    0   0     0    0    0   0     0   0    0     0   0   0    0   0     0    0     0     1\n",
      "634   1             0   0     1   0   0    0     1     0    0   0   0    1    0     0   0   0    0    0   0     0   0   0   0    0    0     0    0   0    0   0     0    0    0   0     0   0    0     0   0   0    0   0     0    0     0     1\n",
      "633   1             1   0     0   0   0    0     0     0    1   0   0    0    0     0   0   1    0    0   0     0   0   0   0    0    0     0    0   0    0   0     0    0    0   0     0   0    0     0   0   0    0   0     0    0     0     1\n",
      "1920  0             0   0     0   0   0    0     0     0    0   0   0    0    0     0   0   0    0    0   0     0   0   0   0    0    0     0    0   0    0   0     0    0    0   0     0   0    0     0   0   0    0   0     0    0     0     1\n",
      "Name: count, Length: 1920, dtype: int64\n"
     ]
    }
   ],
   "source": [
    "import os\n",
    "import pandas as pd\n",
    "import numpy as np\n",
    "from PIL import Image\n",
    "import matplotlib.pyplot as plt\n",
    "from sklearn.model_selection import train_test_split\n",
    "\n",
    "# Load and examine the CSV labels\n",
    "train_labels = pd.read_csv(\"../data/raw/Training_Set/RFMiD_Training_Labels.csv\")\n",
    "print(\"Training labels shape:\", train_labels.shape)\n",
    "print(\"\\nFirst few rows:\")\n",
    "print(train_labels.head())\n",
    "\n",
    "print(\"\\nLabel distribution:\")\n",
    "# print(train_labels.value_counts())"
   ]
  }
 ],
 "metadata": {
  "kernelspec": {
   "display_name": "venv",
   "language": "python",
   "name": "python3"
  },
  "language_info": {
   "codemirror_mode": {
    "name": "ipython",
    "version": 3
   },
   "file_extension": ".py",
   "mimetype": "text/x-python",
   "name": "python",
   "nbconvert_exporter": "python",
   "pygments_lexer": "ipython3",
   "version": "3.9.6"
  }
 },
 "nbformat": 4,
 "nbformat_minor": 5
}
